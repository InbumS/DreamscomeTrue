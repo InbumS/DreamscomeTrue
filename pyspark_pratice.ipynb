{
  "nbformat": 4,
  "nbformat_minor": 0,
  "metadata": {
    "colab": {
      "provenance": [],
      "collapsed_sections": [],
      "authorship_tag": "ABX9TyMuo2VWZNOi1TraT48GTK5e",
      "include_colab_link": true
    },
    "kernelspec": {
      "name": "python3",
      "display_name": "Python 3"
    },
    "language_info": {
      "name": "python"
    }
  },
  "cells": [
    {
      "cell_type": "markdown",
      "metadata": {
        "id": "view-in-github",
        "colab_type": "text"
      },
      "source": [
        "<a href=\"https://colab.research.google.com/github/InbumS/DreamscomeTrue/blob/main/pyspark_pratice.ipynb\" target=\"_parent\"><img src=\"https://colab.research.google.com/assets/colab-badge.svg\" alt=\"Open In Colab\"/></a>"
      ]
    },
    {
      "cell_type": "code",
      "execution_count": null,
      "metadata": {
        "id": "rd6CESKk8-Wy",
        "colab": {
          "base_uri": "https://localhost:8080/"
        },
        "outputId": "99e819b8-d02c-4138-e647-a1fc9e38637f"
      },
      "outputs": [
        {
          "output_type": "stream",
          "name": "stdout",
          "text": [
            "Looking in indexes: https://pypi.org/simple, https://us-python.pkg.dev/colab-wheels/public/simple/\n",
            "Collecting pyspark\n",
            "  Downloading pyspark-3.3.0.tar.gz (281.3 MB)\n",
            "\u001b[K     |████████████████████████████████| 281.3 MB 41 kB/s \n",
            "\u001b[?25hCollecting py4j==0.10.9.5\n",
            "  Downloading py4j-0.10.9.5-py2.py3-none-any.whl (199 kB)\n",
            "\u001b[K     |████████████████████████████████| 199 kB 47.2 MB/s \n",
            "\u001b[?25hBuilding wheels for collected packages: pyspark\n",
            "  Building wheel for pyspark (setup.py) ... \u001b[?25l\u001b[?25hdone\n",
            "  Created wheel for pyspark: filename=pyspark-3.3.0-py2.py3-none-any.whl size=281764026 sha256=fb0ade44bc7da899c8c94f5f376bb759a9c0309f6d76d4a4db3d89065b33f9ce\n",
            "  Stored in directory: /root/.cache/pip/wheels/7a/8e/1b/f73a52650d2e5f337708d9f6a1750d451a7349a867f928b885\n",
            "Successfully built pyspark\n",
            "Installing collected packages: py4j, pyspark\n",
            "Successfully installed py4j-0.10.9.5 pyspark-3.3.0\n",
            "The following package was automatically installed and is no longer required:\n",
            "  libnvidia-common-460\n",
            "Use 'apt autoremove' to remove it.\n",
            "The following additional packages will be installed:\n",
            "  openjdk-8-jre-headless\n",
            "Suggested packages:\n",
            "  openjdk-8-demo openjdk-8-source libnss-mdns fonts-dejavu-extra\n",
            "  fonts-ipafont-gothic fonts-ipafont-mincho fonts-wqy-microhei\n",
            "  fonts-wqy-zenhei fonts-indic\n",
            "The following NEW packages will be installed:\n",
            "  openjdk-8-jdk-headless openjdk-8-jre-headless\n",
            "0 upgraded, 2 newly installed, 0 to remove and 20 not upgraded.\n",
            "Need to get 36.6 MB of archives.\n",
            "After this operation, 143 MB of additional disk space will be used.\n",
            "Selecting previously unselected package openjdk-8-jre-headless:amd64.\n",
            "(Reading database ... 159447 files and directories currently installed.)\n",
            "Preparing to unpack .../openjdk-8-jre-headless_8u342-b07-0ubuntu1~18.04_amd64.deb ...\n",
            "Unpacking openjdk-8-jre-headless:amd64 (8u342-b07-0ubuntu1~18.04) ...\n",
            "Selecting previously unselected package openjdk-8-jdk-headless:amd64.\n",
            "Preparing to unpack .../openjdk-8-jdk-headless_8u342-b07-0ubuntu1~18.04_amd64.deb ...\n",
            "Unpacking openjdk-8-jdk-headless:amd64 (8u342-b07-0ubuntu1~18.04) ...\n",
            "Setting up openjdk-8-jre-headless:amd64 (8u342-b07-0ubuntu1~18.04) ...\n",
            "update-alternatives: using /usr/lib/jvm/java-8-openjdk-amd64/jre/bin/orbd to provide /usr/bin/orbd (orbd) in auto mode\n",
            "update-alternatives: using /usr/lib/jvm/java-8-openjdk-amd64/jre/bin/servertool to provide /usr/bin/servertool (servertool) in auto mode\n",
            "update-alternatives: using /usr/lib/jvm/java-8-openjdk-amd64/jre/bin/tnameserv to provide /usr/bin/tnameserv (tnameserv) in auto mode\n",
            "Setting up openjdk-8-jdk-headless:amd64 (8u342-b07-0ubuntu1~18.04) ...\n",
            "update-alternatives: using /usr/lib/jvm/java-8-openjdk-amd64/bin/idlj to provide /usr/bin/idlj (idlj) in auto mode\n",
            "update-alternatives: using /usr/lib/jvm/java-8-openjdk-amd64/bin/wsimport to provide /usr/bin/wsimport (wsimport) in auto mode\n",
            "update-alternatives: using /usr/lib/jvm/java-8-openjdk-amd64/bin/jsadebugd to provide /usr/bin/jsadebugd (jsadebugd) in auto mode\n",
            "update-alternatives: using /usr/lib/jvm/java-8-openjdk-amd64/bin/native2ascii to provide /usr/bin/native2ascii (native2ascii) in auto mode\n",
            "update-alternatives: using /usr/lib/jvm/java-8-openjdk-amd64/bin/javah to provide /usr/bin/javah (javah) in auto mode\n",
            "update-alternatives: using /usr/lib/jvm/java-8-openjdk-amd64/bin/clhsdb to provide /usr/bin/clhsdb (clhsdb) in auto mode\n",
            "update-alternatives: using /usr/lib/jvm/java-8-openjdk-amd64/bin/xjc to provide /usr/bin/xjc (xjc) in auto mode\n",
            "update-alternatives: using /usr/lib/jvm/java-8-openjdk-amd64/bin/hsdb to provide /usr/bin/hsdb (hsdb) in auto mode\n",
            "update-alternatives: using /usr/lib/jvm/java-8-openjdk-amd64/bin/schemagen to provide /usr/bin/schemagen (schemagen) in auto mode\n",
            "update-alternatives: using /usr/lib/jvm/java-8-openjdk-amd64/bin/extcheck to provide /usr/bin/extcheck (extcheck) in auto mode\n",
            "update-alternatives: using /usr/lib/jvm/java-8-openjdk-amd64/bin/jhat to provide /usr/bin/jhat (jhat) in auto mode\n",
            "update-alternatives: using /usr/lib/jvm/java-8-openjdk-amd64/bin/wsgen to provide /usr/bin/wsgen (wsgen) in auto mode\n"
          ]
        }
      ],
      "source": [
        "!pip install pyspark\n",
        "!apt install openjdk-8-jdk-headless -qq\n",
        "import os\n",
        "os.environ[\"JAVA_HOME\"]=\"/usr/lib/jvm/java-8-openjdk-amd64\""
      ]
    },
    {
      "cell_type": "code",
      "source": [
        "import pyspark\n",
        "from pyspark.sql import *\n",
        "from pyspark.sql.functions import *\n",
        "from pyspark import SparkContext, SparkConf\n"
      ],
      "metadata": {
        "id": "qtdz6dHJBKR_"
      },
      "execution_count": null,
      "outputs": []
    },
    {
      "cell_type": "markdown",
      "source": [
        "-------------------------------------------------------------------------------\n"
      ],
      "metadata": {
        "id": "DxNVz4V5bxD7"
      }
    },
    {
      "cell_type": "code",
      "source": [
        "spark=SparkSession.builder.getOrCreate()"
      ],
      "metadata": {
        "id": "GX6pwjTQBcrY"
      },
      "execution_count": null,
      "outputs": []
    },
    {
      "cell_type": "code",
      "source": [
        "spark"
      ],
      "metadata": {
        "id": "rI-qinGdBi2K"
      },
      "execution_count": null,
      "outputs": []
    },
    {
      "cell_type": "code",
      "source": [
        "from operator import add\n",
        "lines=spark.read.text('word.txt').rdd.map(lambda r:r[0])\n",
        "counts=lines.flatMap(lambda x:x.split(' ')).map(lambda x: (x,1)).reduceByKey(add)\n",
        "output=counts.collect()\n",
        "for(word,count)in output:\n",
        "  print(\"%s: %i\"%(word,count))\n",
        "\n",
        "\n",
        "\n",
        "\n",
        "spark.stop()"
      ],
      "metadata": {
        "id": "Aic7AyIhBlLn"
      },
      "execution_count": null,
      "outputs": []
    },
    {
      "cell_type": "markdown",
      "source": [
        "## 2022-09-19\n",
        "\n",
        "* 분산 가능한 데이터 셋(RDD) \n",
        "  \n",
        "* 여러 분산 노드에 나누어 저장\n",
        "\n",
        "* 변경이 불가 --> 즉 다시 재 생성하는 방법으로 대처 \n",
        "\n",
        "* RDD에는 크게 두가지 연산(Transformation, Action)\n",
        "\n",
        "* RDD는 스키마리스 구조 -> 거의 모든 데이터 구조를 섞을 수 있음\n",
        "\n",
        "로컬 모드 VS 클러스터 모드\n",
        "\n",
        "여러개의 worker노드 중 하나 실행 -> (클러스터)\n",
        "\n",
        "\n"
      ],
      "metadata": {
        "id": "AaMed3yBYE8b"
      }
    },
    {
      "cell_type": "code",
      "source": [
        "sc = pyspark.SparkContext()\n",
        "spark=SparkSession.builder.getOrCreate()"
      ],
      "metadata": {
        "id": "65rQWpPnaMSL"
      },
      "execution_count": null,
      "outputs": []
    },
    {
      "cell_type": "code",
      "source": [
        "data=sc.parallelize([('Amber',22),('Alfred',23),('Skye',4),('Albert',12),('Amber',20)])\n",
        "\n",
        "data.collect()"
      ],
      "metadata": {
        "id": "C15ljIx6apqS"
      },
      "execution_count": null,
      "outputs": []
    },
    {
      "cell_type": "code",
      "source": [
        "data_heterogenous=sc.parallelize([\n",
        "    ('Ferrari','fast'),{'Porshe':100000},['Spain','visited',4504]]) .collect()\n"
      ],
      "metadata": {
        "id": "4DkK85aEdeoK"
      },
      "execution_count": null,
      "outputs": []
    },
    {
      "cell_type": "code",
      "source": [
        "data_heterogenous[2]"
      ],
      "metadata": {
        "id": "7sU-fXHUd_r6"
      },
      "execution_count": null,
      "outputs": []
    },
    {
      "cell_type": "code",
      "source": [
        "# iris데이터를 webget명령어로 다운받는 경우\n",
        "!wget https://gist.githubusercontent.com/curran/a08a1080b88344b0c8a7/raw/0e7a9b0a5d22642a06d3d5b9bcbad9890c8ee534/iris.csv"
      ],
      "metadata": {
        "id": "7fFhLTG6cFXS"
      },
      "execution_count": null,
      "outputs": []
    },
    {
      "cell_type": "code",
      "source": [
        "# 외부 데이터를 읽으려면 Sparkcontext함수의 textFile문법으로 읽는다\n",
        "data_from_file=sc.textFile('iris.csv')"
      ],
      "metadata": {
        "id": "O5UJfUKEeNOR"
      },
      "execution_count": null,
      "outputs": []
    },
    {
      "cell_type": "code",
      "source": [
        "data_from_file.take(5)"
      ],
      "metadata": {
        "id": "jRmAG2LzeUoR"
      },
      "execution_count": null,
      "outputs": []
    },
    {
      "cell_type": "code",
      "source": [
        "iris_header=data_from_file.first()\n",
        "\n",
        "# RDD화를 꼭 시켜줘야된다.\n",
        "iris_header=sc.parallelize([iris_header])\n",
        "\n",
        "iris=data_from_file.subtract(iris_header)\n",
        "iris.collect()[:10] # Index processing"
      ],
      "metadata": {
        "id": "3HKjGXN6fCt6"
      },
      "execution_count": null,
      "outputs": []
    },
    {
      "cell_type": "code",
      "source": [
        "iris_parsed_1=iris.map(lambda row: row.split(\",\"))\n",
        "iris_parsed_1.take(10)"
      ],
      "metadata": {
        "id": "4ItW3LJhh2be"
      },
      "execution_count": null,
      "outputs": []
    },
    {
      "cell_type": "code",
      "source": [
        "iris_parsed_2=iris_parsed_1.map(lambda x: (str(x[-1]),float(x[0])))\n",
        "iris_parsed_2.take(10)"
      ],
      "metadata": {
        "id": "BAkQL0LeiFLI"
      },
      "execution_count": null,
      "outputs": []
    },
    {
      "cell_type": "code",
      "source": [
        "print(iris_parsed_1.count())\n",
        "\n",
        "iris_filterd=iris_parsed_1.filter(lambda x:float(x[0])>=5.0)\n",
        "\n",
        "iris_filterd.count()"
      ],
      "metadata": {
        "id": "qOMnEJAVj1OA"
      },
      "execution_count": null,
      "outputs": []
    },
    {
      "cell_type": "code",
      "source": [
        "iris_flat=iris_parsed_1.flatMap(lambda x: (str(x[-1]),float(x[0])))\n",
        "iris_flat.take(5)"
      ],
      "metadata": {
        "id": "_G9oPR8mkXG_"
      },
      "execution_count": null,
      "outputs": []
    },
    {
      "cell_type": "code",
      "source": [
        "distinct_iris=iris_parsed_1.map(lambda x:x[-1]).distinct().collect()\n",
        "distinct_iris"
      ],
      "metadata": {
        "id": "Vig4Vw7wkuYZ"
      },
      "execution_count": null,
      "outputs": []
    },
    {
      "cell_type": "markdown",
      "source": [
        "## 2022-09-21\n",
        "\n",
        "* join연산에서는 join attribute가 필요하다\n",
        "\n",
        "* partition 수가 달라지면 reduce 연산 값이 달라진다\n",
        "\n",
        "* saveAsTextFile는 같은 디렉토리에 파티션 단위로 파일을 출력"
      ],
      "metadata": {
        "id": "qONPzn6k-4Fj"
      }
    },
    {
      "cell_type": "code",
      "source": [
        "fraction=0.5\n",
        "iris_sample1=iris_parsed_1.sample(False,fraction,123)\n",
        "iris_sample2=iris_parsed_1.sample(False,fraction,123)\n",
        "#3번째 인자 seed 값을 다르게 쓰면 다르게 sampling 된다.\n",
        "iris_sample3=iris_parsed_1.sample(False,fraction,456)\n",
        "\n",
        "iris_sample1.take(5)"
      ],
      "metadata": {
        "id": "qz6XCyam-18j"
      },
      "execution_count": null,
      "outputs": []
    },
    {
      "cell_type": "code",
      "source": [
        "print(iris_sample2.take(5))\n",
        "print(iris_sample3.take(5))\n",
        "\n",
        "print(\"original dataset: {0},sample{1}\".format(iris_parsed_1.count(),iris_sample1.count()))"
      ],
      "metadata": {
        "id": "le4Fi4_LAJXD"
      },
      "execution_count": null,
      "outputs": []
    },
    {
      "cell_type": "code",
      "source": [
        "rdd1=sc.parallelize([('a',1),('b',4),('c',10)])\n",
        "rdd2=sc.parallelize([('a',4),('a',1),('b','6'),('d',15)])\n",
        "\n",
        "\n",
        "rdd3=rdd1.leftOuterJoin(rdd2)\n",
        "rdd3.take(5)"
      ],
      "metadata": {
        "id": "y_IAMd3DAihD"
      },
      "execution_count": null,
      "outputs": []
    },
    {
      "cell_type": "code",
      "source": [
        "rdd4=rdd1.join(rdd2)\n",
        "rdd4.collect()"
      ],
      "metadata": {
        "id": "CysqQ4-UCbGi"
      },
      "execution_count": null,
      "outputs": []
    },
    {
      "cell_type": "code",
      "source": [
        "len(rdd1.glom().collect())\n",
        "\n",
        "rdd1=rdd1.repartition(1)\n",
        "len(rdd1.glom().collect())"
      ],
      "metadata": {
        "id": "DYzsPgplC_Zy"
      },
      "execution_count": null,
      "outputs": []
    },
    {
      "cell_type": "code",
      "source": [
        "data_reduce=sc.parallelize([1,2,.5,.1,5,.2],1)\n",
        "data_reduce.reduce(lambda x,y: x/y)"
      ],
      "metadata": {
        "id": "u8L903TXDIfo"
      },
      "execution_count": null,
      "outputs": []
    },
    {
      "cell_type": "code",
      "source": [
        "data_reduce=sc.parallelize([1,2,.5,.1,5,.2],8)\n",
        "data_reduce.reduce(lambda x,y:x / y)"
      ],
      "metadata": {
        "id": "hhcK6EICE6HR"
      },
      "execution_count": null,
      "outputs": []
    },
    {
      "cell_type": "markdown",
      "source": [
        "mapValues()=>\n",
        "key처리가 필수적이으나 key는 그냥 두고 value만 처리"
      ],
      "metadata": {
        "id": "iCiBsOEiHQxA"
      }
    },
    {
      "cell_type": "code",
      "source": [
        "iris_parsed_2=iris_parsed_1.map(lambda x:(str(x[-1]),float(x[0])))\n",
        "iris_parsed_2.take(10)"
      ],
      "metadata": {
        "id": "yeIhcrrQGGuZ"
      },
      "execution_count": null,
      "outputs": []
    },
    {
      "cell_type": "code",
      "source": [
        "iris_totals=iris_parsed_2.mapValues(lambda x:(x,1))\n",
        "iris_totals.take(10)\n"
      ],
      "metadata": {
        "id": "GOUcsNunH0OQ"
      },
      "execution_count": null,
      "outputs": []
    },
    {
      "cell_type": "code",
      "source": [
        "iris_totals=iris_totals.reduceByKey(lambda x,y:(x[0]+y[0],x[1]+y[1]))\n",
        "iris_totals.collect()"
      ],
      "metadata": {
        "id": "86r8ckh0JLSH"
      },
      "execution_count": null,
      "outputs": []
    },
    {
      "cell_type": "code",
      "source": [
        "iris_means=iris_totals.mapValues(lambda x: (x[0]/x[1]))\n",
        "result=iris_means.collect()\n",
        "result"
      ],
      "metadata": {
        "id": "J9Dr11pRJZMR"
      },
      "execution_count": null,
      "outputs": []
    },
    {
      "cell_type": "code",
      "source": [
        "# f formating 방법\n",
        "for val in result:\n",
        "  print(f\"iris species {val[0]} has an average sepal length of {val[1]}\")"
      ],
      "metadata": {
        "id": "mQ1Z3cvNJyDY"
      },
      "execution_count": null,
      "outputs": []
    },
    {
      "cell_type": "markdown",
      "source": [],
      "metadata": {
        "id": "FK2Hq1a_9sMr"
      }
    }
  ]
}